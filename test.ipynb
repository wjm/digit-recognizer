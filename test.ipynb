{
 "cells": [
  {
   "cell_type": "code",
   "execution_count": 68,
   "metadata": {},
   "outputs": [],
   "source": [
    "import pandas as pd\n",
    "import numpy as np\n",
    "import matplotlib.pyplot as plt\n",
    "import matplotlib.image as mpimg\n",
    "import tensorflow as tf\n",
    "%matplotlib inline\n",
    "\n",
    "np.random.seed(2)\n",
    "\n",
    "from sklearn.model_selection import train_test_split\n",
    "from sklearn.metrics import confusion_matrix\n",
    "import itertools\n",
    "\n",
    "from tensorflow.keras.utils import to_categorical\n",
    "from tensorflow.keras.models import Sequential\n",
    "from tensorflow.keras.layers import Dense, Dropout, Flatten, Conv2D, MaxPool2D, BatchNormalization\n",
    "from tensorflow.keras.optimizers import SGD, RMSprop\n",
    "from tensorflow.keras.preprocessing.image import ImageDataGenerator\n",
    "from tensorflow.keras.callbacks import ReduceLROnPlateau\n",
    "from tensorflow.keras.callbacks import EarlyStopping"
   ]
  },
  {
   "cell_type": "code",
   "execution_count": 4,
   "metadata": {},
   "outputs": [
    {
     "data": {
      "text/plain": [
       "[PhysicalDevice(name='/physical_device:GPU:0', device_type='GPU')]"
      ]
     },
     "execution_count": 4,
     "metadata": {},
     "output_type": "execute_result"
    }
   ],
   "source": [
    "tf.config.list_physical_devices('GPU')"
   ]
  },
  {
   "cell_type": "code",
   "execution_count": 34,
   "metadata": {},
   "outputs": [
    {
     "name": "stdout",
     "output_type": "stream",
     "text": [
      "(42000,)\n",
      "(42000, 784)\n"
     ]
    }
   ],
   "source": [
    "train = pd.read_csv(\"./train.csv\")\n",
    "test = pd.read_csv(\"./test.csv\")\n",
    "Y_train = train[\"label\"]\n",
    "print(Y_train.shape)\n",
    "\n",
    "X_train = train.drop(labels = [\"label\"],axis = 1) \n",
    "print(X_train.shape)\n",
    "X_train = X_train / 255.0\n",
    "test = test / 255.0\n",
    "X_train = X_train.values.reshape(-1,28,28,1)\n",
    "test = test.values.reshape(-1,28,28,1)\n",
    "Y_train = to_categorical(Y_train, num_classes = 10)\n",
    "Y_test = pd.read_csv(\"./Do_not_submit.csv\")"
   ]
  },
  {
   "cell_type": "code",
   "execution_count": 65,
   "metadata": {},
   "outputs": [],
   "source": [
    "X_train, X_val, Y_train, Y_val = train_test_split(X_train, Y_train, test_size = 0.1)"
   ]
  },
  {
   "cell_type": "code",
   "execution_count": 66,
   "metadata": {},
   "outputs": [],
   "source": [
    "model = Sequential()\n",
    "\n",
    "model.add(Conv2D(filters = 32, kernel_size = (5,5),padding = 'Same', \n",
    "                 activation ='relu', input_shape = (28,28,1)))\n",
    "model.add(Conv2D(filters = 32, kernel_size = (5,5),padding = 'Same', \n",
    "                 activation ='relu'))\n",
    "model.add(MaxPool2D(pool_size=(2,2)))\n",
    "model.add(Dropout(0.25))\n",
    "\n",
    "\n",
    "model.add(Conv2D(filters = 64, kernel_size = (3,3),padding = 'Same', \n",
    "                 activation ='relu'))\n",
    "model.add(Conv2D(filters = 64, kernel_size = (3,3),padding = 'Same', \n",
    "                 activation ='relu'))\n",
    "model.add(MaxPool2D(pool_size=(2,2), strides=(2,2)))\n",
    "model.add(Dropout(0.25))\n",
    "\n",
    "\n",
    "model.add(Flatten())\n",
    "model.add(Dense(256, activation = \"relu\"))\n",
    "model.add(Dropout(0.5))\n",
    "model.add(Dense(10, activation = \"softmax\"))"
   ]
  },
  {
   "cell_type": "code",
   "execution_count": 70,
   "metadata": {},
   "outputs": [],
   "source": [
    "optimizer = RMSprop(learning_rate=0.001, rho=0.9, epsilon=1e-08, decay=0.0)"
   ]
  },
  {
   "cell_type": "code",
   "execution_count": 71,
   "metadata": {},
   "outputs": [],
   "source": [
    "model.compile(optimizer = optimizer , loss = \"categorical_crossentropy\", metrics=[\"accuracy\"])"
   ]
  },
  {
   "cell_type": "code",
   "execution_count": 75,
   "metadata": {},
   "outputs": [],
   "source": [
    "learning_rate_reduction = ReduceLROnPlateau(monitor='val_accuracy', \n",
    "                                            patience=3, \n",
    "                                            verbose=1, \n",
    "                                            factor=0.5, \n",
    "                                            min_lr=0.00001)"
   ]
  },
  {
   "cell_type": "code",
   "execution_count": 73,
   "metadata": {},
   "outputs": [],
   "source": [
    "datagen = ImageDataGenerator(\n",
    "        featurewise_center=False,  # set input mean to 0 over the dataset\n",
    "        samplewise_center=False,  # set each sample mean to 0\n",
    "        featurewise_std_normalization=False,  # divide inputs by std of the dataset\n",
    "        samplewise_std_normalization=False,  # divide each input by its std\n",
    "        zca_whitening=False,  # apply ZCA whitening\n",
    "        rotation_range=10,  # randomly rotate images in the range (degrees, 0 to 180)\n",
    "        zoom_range = 0.1, # Randomly zoom image \n",
    "        width_shift_range=0.1,  # randomly shift images horizontally (fraction of total width)\n",
    "        height_shift_range=0.1,  # randomly shift images vertically (fraction of total height)\n",
    "        horizontal_flip=False,  # randomly flip images\n",
    "        vertical_flip=False)  # randomly flip images\n",
    "\n",
    "\n",
    "datagen.fit(X_train)"
   ]
  },
  {
   "cell_type": "code",
   "execution_count": null,
   "metadata": {},
   "outputs": [],
   "source": [
    "history = model.fit(datagen.flow(X_train,Y_train, batch_size=64),\n",
    "                              epochs = 30, validation_data = (X_val,Y_val),\n",
    "                              verbose = 1, steps_per_epoch=X_train.shape[0] // 64\n",
    "                              , callbacks=[learning_rate_reduction])"
   ]
  },
  {
   "cell_type": "code",
   "execution_count": 122,
   "metadata": {},
   "outputs": [],
   "source": [
    "def gen_model():\n",
    "    model = Sequential()\n",
    "\n",
    "    model.add(Conv2D(filters = 32, kernel_size = (5,5),padding = 'Same', \n",
    "                     activation ='relu', input_shape = (28,28,1)))\n",
    "    model.add(BatchNormalization())\n",
    "    model.add(Conv2D(filters = 32, kernel_size = (5,5),padding = 'Same', \n",
    "                     activation ='relu'))\n",
    "    #model.add(BatchNormalization())\n",
    "    model.add(MaxPool2D(pool_size=(2,2)))\n",
    "    model.add(Dropout(0.25))\n",
    "\n",
    "\n",
    "    model.add(Conv2D(filters = 64, kernel_size = (3,3),padding = 'Same', \n",
    "                     activation ='relu'))\n",
    "    model.add(BatchNormalization())\n",
    "    model.add(Conv2D(filters = 64, kernel_size = (3,3),padding = 'Same', \n",
    "                     activation ='relu'))\n",
    "    #model.add(BatchNormalization())\n",
    "    model.add(MaxPool2D(pool_size=(2,2), strides=(2,2)))\n",
    "    model.add(Dropout(0.25))\n",
    "\n",
    "\n",
    "    model.add(Flatten())\n",
    "    model.add(Dense(256, activation = \"relu\"))\n",
    "    model.add(Dropout(0.5))\n",
    "    model.add(Dense(10, activation = \"softmax\"))\n",
    "\n",
    "    #model.summary()\n",
    "    model.compile(optimizer=\"adam\", loss=\"categorical_crossentropy\", metrics=[\"accuracy\"])\n",
    "    return model"
   ]
  },
  {
   "cell_type": "code",
   "execution_count": 123,
   "metadata": {},
   "outputs": [],
   "source": [
    "es = EarlyStopping(monitor='val_loss', mode='min', verbose=1, patience=9)"
   ]
  },
  {
   "cell_type": "code",
   "execution_count": 178,
   "metadata": {},
   "outputs": [],
   "source": [
    "model = gen_model()"
   ]
  },
  {
   "cell_type": "code",
   "execution_count": 179,
   "metadata": {},
   "outputs": [
    {
     "name": "stdout",
     "output_type": "stream",
     "text": [
      "Epoch 00024: early stopping\n"
     ]
    }
   ],
   "source": [
    "history = model.fit(X_train,Y_train, batch_size=112,\n",
    "                    epochs = 100, validation_split = 0.1,verbose = 0,callbacks=[es])"
   ]
  },
  {
   "cell_type": "code",
   "execution_count": 181,
   "metadata": {
    "scrolled": true
   },
   "outputs": [
    {
     "data": {
      "image/png": "[encoded data removed]",
      "text/plain": [
       "<Figure size 432x288 with 1 Axes>"
      ]
     },
     "metadata": {
      "needs_background": "light"
     },
     "output_type": "display_data"
    },
    {
     "data": {
      "image/png": "[encoded data removed]",
      "text/plain": [
       "<Figure size 432x288 with 1 Axes>"
      ]
     },
     "metadata": {
      "needs_background": "light"
     },
     "output_type": "display_data"
    },
    {
     "data": {
      "text/plain": [
       "<Figure size 432x288 with 0 Axes>"
      ]
     },
     "metadata": {},
     "output_type": "display_data"
    }
   ],
   "source": [
    "plt.plot(history.history['accuracy'], label='train')\n",
    "plt.plot(history.history['val_accuracy'], label='test')\n",
    "plt.title('Plot History: Model Accuracy')\n",
    "plt.ylabel('Accuracy')\n",
    "plt.xlabel('Epoch')\n",
    "plt.legend(['Train', 'Test'], loc='upper left')\n",
    "plt.show()\n",
    "\n",
    "plt.clf()\n",
    "\n",
    "plt.plot(history.history['loss'], label='train loss')\n",
    "plt.plot(history.history['val_loss'], label='test loss')\n",
    "plt.title('Plot History: Model Loss')\n",
    "plt.ylabel('Loss')\n",
    "plt.xlabel('Epoch')\n",
    "plt.legend(['Train', 'Test'], loc='upper left')\n",
    "plt.show()\n",
    "plt.savefig('test.jpg')"
   ]
  },
  {
   "cell_type": "code",
   "execution_count": 182,
   "metadata": {},
   "outputs": [],
   "source": [
    "pred_testy=model.predict(test)"
   ]
  },
  {
   "cell_type": "code",
   "execution_count": 183,
   "metadata": {},
   "outputs": [],
   "source": [
    "pred = np.argmax(pred_testy, axis=1)"
   ]
  },
  {
   "cell_type": "code",
   "execution_count": 184,
   "metadata": {},
   "outputs": [
    {
     "data": {
      "text/plain": [
       "0.9923571428571428"
      ]
     },
     "execution_count": 184,
     "metadata": {},
     "output_type": "execute_result"
    }
   ],
   "source": [
    "sum(pred==np.array(Y_test['Label']))/28000"
   ]
  },
  {
   "cell_type": "code",
   "execution_count": 174,
   "metadata": {},
   "outputs": [],
   "source": [
    "for batch in range(66,126,4):\n",
    "    res[batch]={}"
   ]
  },
  {
   "cell_type": "code",
   "execution_count": 176,
   "metadata": {},
   "outputs": [
    {
     "name": "stdout",
     "output_type": "stream",
     "text": [
      "16:56:48.328821\n",
      "batch = 66, validation_split = 0.1\n",
      "Epoch 00017: early stopping\n",
      "batch = 66, validation_split = 0.1, acc_rate = 0.9906428571428572\n",
      "16:57:45.217555\n",
      "batch = 66, validation_split = 0.2\n",
      "Epoch 00020: early stopping\n",
      "batch = 66, validation_split = 0.2, acc_rate = 0.9911428571428571\n",
      "16:58:46.414298\n",
      "batch = 66, validation_split = 0.3\n",
      "Epoch 00022: early stopping\n",
      "batch = 66, validation_split = 0.3, acc_rate = 0.9900714285714286\n",
      "16:59:50.496503\n",
      "batch = 66, validation_split = 0.4\n",
      "Epoch 00021: early stopping\n",
      "batch = 66, validation_split = 0.4, acc_rate = 0.9914642857142857\n",
      "17:00:48.232295\n",
      "batch = 70, validation_split = 0.1\n",
      "Epoch 00012: early stopping\n",
      "batch = 70, validation_split = 0.1, acc_rate = 0.9907142857142858\n",
      "17:01:22.856479\n",
      "batch = 70, validation_split = 0.2\n",
      "Epoch 00020: early stopping\n",
      "batch = 70, validation_split = 0.2, acc_rate = 0.9924642857142857\n",
      "17:02:15.912941\n",
      "batch = 70, validation_split = 0.3\n",
      "Epoch 00026: early stopping\n",
      "batch = 70, validation_split = 0.3, acc_rate = 0.9913928571428572\n",
      "17:03:18.677764\n",
      "batch = 70, validation_split = 0.4\n",
      "Epoch 00020: early stopping\n",
      "batch = 70, validation_split = 0.4, acc_rate = 0.9907142857142858\n",
      "17:04:04.450896\n",
      "batch = 74, validation_split = 0.1\n",
      "Epoch 00016: early stopping\n",
      "batch = 74, validation_split = 0.1, acc_rate = 0.9909642857142857\n",
      "17:04:52.759585\n",
      "batch = 74, validation_split = 0.2\n",
      "Epoch 00020: early stopping\n",
      "batch = 74, validation_split = 0.2, acc_rate = 0.9910714285714286\n",
      "17:05:49.194941\n",
      "batch = 74, validation_split = 0.3\n",
      "Epoch 00025: early stopping\n",
      "batch = 74, validation_split = 0.3, acc_rate = 0.9909642857142857\n",
      "17:06:56.334255\n",
      "batch = 74, validation_split = 0.4\n",
      "Epoch 00023: early stopping\n",
      "batch = 74, validation_split = 0.4, acc_rate = 0.98775\n",
      "17:07:54.197061\n",
      "batch = 78, validation_split = 0.1\n",
      "Epoch 00014: early stopping\n",
      "batch = 78, validation_split = 0.1, acc_rate = 0.9911785714285715\n",
      "17:08:35.787961\n",
      "batch = 78, validation_split = 0.2\n",
      "Epoch 00019: early stopping\n",
      "batch = 78, validation_split = 0.2, acc_rate = 0.9916428571428572\n",
      "17:09:27.724682\n",
      "batch = 78, validation_split = 0.3\n",
      "Epoch 00022: early stopping\n",
      "batch = 78, validation_split = 0.3, acc_rate = 0.9911785714285715\n",
      "17:10:25.169318\n",
      "batch = 78, validation_split = 0.4\n",
      "Epoch 00018: early stopping\n",
      "batch = 78, validation_split = 0.4, acc_rate = 0.9886785714285714\n",
      "17:11:08.161304\n",
      "batch = 82, validation_split = 0.1\n",
      "Epoch 00018: early stopping\n",
      "batch = 82, validation_split = 0.1, acc_rate = 0.9917142857142857\n",
      "17:11:59.555456\n",
      "batch = 82, validation_split = 0.2\n",
      "Epoch 00023: early stopping\n",
      "batch = 82, validation_split = 0.2, acc_rate = 0.9914285714285714\n",
      "17:12:59.457770\n",
      "batch = 82, validation_split = 0.3\n",
      "Epoch 00019: early stopping\n",
      "batch = 82, validation_split = 0.3, acc_rate = 0.9901785714285715\n",
      "17:13:45.939856\n",
      "batch = 82, validation_split = 0.4\n",
      "Epoch 00022: early stopping\n",
      "batch = 82, validation_split = 0.4, acc_rate = 0.9908571428571429\n",
      "17:14:37.323842\n",
      "batch = 86, validation_split = 0.1\n",
      "Epoch 00015: early stopping\n",
      "batch = 86, validation_split = 0.1, acc_rate = 0.9923571428571428\n",
      "17:15:17.499630\n",
      "batch = 86, validation_split = 0.2\n",
      "Epoch 00026: early stopping\n",
      "batch = 86, validation_split = 0.2, acc_rate = 0.9921428571428571\n",
      "17:16:22.637684\n",
      "batch = 86, validation_split = 0.3\n",
      "Epoch 00022: early stopping\n",
      "batch = 86, validation_split = 0.3, acc_rate = 0.9921071428571429\n",
      "17:17:14.482429\n",
      "batch = 86, validation_split = 0.4\n",
      "Epoch 00020: early stopping\n",
      "batch = 86, validation_split = 0.4, acc_rate = 0.9906071428571429\n",
      "17:18:00.020003\n",
      "batch = 90, validation_split = 0.1\n",
      "Epoch 00015: early stopping\n",
      "batch = 90, validation_split = 0.1, acc_rate = 0.9908214285714285\n",
      "17:18:36.336259\n",
      "batch = 90, validation_split = 0.2\n",
      "Epoch 00018: early stopping\n",
      "batch = 90, validation_split = 0.2, acc_rate = 0.991\n",
      "17:19:16.248807\n",
      "batch = 90, validation_split = 0.3\n",
      "Epoch 00019: early stopping\n",
      "batch = 90, validation_split = 0.3, acc_rate = 0.9919285714285714\n",
      "17:19:56.172346\n",
      "batch = 90, validation_split = 0.4\n",
      "Epoch 00020: early stopping\n",
      "batch = 90, validation_split = 0.4, acc_rate = 0.9908214285714285\n",
      "17:20:34.454205\n",
      "batch = 94, validation_split = 0.1\n",
      "Epoch 00025: early stopping\n",
      "batch = 94, validation_split = 0.1, acc_rate = 0.9908571428571429\n",
      "17:21:37.507025\n",
      "batch = 94, validation_split = 0.2\n",
      "Epoch 00016: early stopping\n",
      "batch = 94, validation_split = 0.2, acc_rate = 0.9900357142857142\n",
      "17:22:16.019821\n",
      "batch = 94, validation_split = 0.3\n",
      "Epoch 00024: early stopping\n",
      "batch = 94, validation_split = 0.3, acc_rate = 0.9912857142857143\n",
      "17:23:09.330238\n",
      "batch = 94, validation_split = 0.4\n",
      "Epoch 00028: early stopping\n",
      "batch = 94, validation_split = 0.4, acc_rate = 0.9876785714285714\n",
      "17:24:07.648801\n",
      "batch = 98, validation_split = 0.1\n",
      "Epoch 00019: early stopping\n",
      "batch = 98, validation_split = 0.1, acc_rate = 0.9915\n",
      "17:24:55.291837\n",
      "batch = 98, validation_split = 0.2\n",
      "Epoch 00016: early stopping\n",
      "batch = 98, validation_split = 0.2, acc_rate = 0.9892857142857143\n",
      "17:25:34.196535\n",
      "batch = 98, validation_split = 0.3\n",
      "Epoch 00031: early stopping\n",
      "batch = 98, validation_split = 0.3, acc_rate = 0.9923928571428572\n",
      "17:26:38.176187\n",
      "batch = 98, validation_split = 0.4\n",
      "Epoch 00023: early stopping\n",
      "batch = 98, validation_split = 0.4, acc_rate = 0.9898214285714285\n",
      "17:27:25.673063\n",
      "batch = 102, validation_split = 0.1\n",
      "Epoch 00023: early stopping\n",
      "batch = 102, validation_split = 0.1, acc_rate = 0.9905\n",
      "17:28:21.829352\n",
      "batch = 102, validation_split = 0.2\n",
      "Epoch 00021: early stopping\n",
      "batch = 102, validation_split = 0.2, acc_rate = 0.9917142857142857\n",
      "17:29:10.484856\n",
      "batch = 102, validation_split = 0.3\n",
      "Epoch 00025: early stopping\n",
      "batch = 102, validation_split = 0.3, acc_rate = 0.9883214285714286\n",
      "17:30:04.070814\n",
      "batch = 102, validation_split = 0.4\n",
      "Epoch 00027: early stopping\n",
      "batch = 102, validation_split = 0.4, acc_rate = 0.9890714285714286\n",
      "17:30:58.158962\n",
      "batch = 106, validation_split = 0.1\n",
      "Epoch 00016: early stopping\n",
      "batch = 106, validation_split = 0.1, acc_rate = 0.9923214285714286\n",
      "17:31:36.847055\n",
      "batch = 106, validation_split = 0.2\n",
      "Epoch 00016: early stopping\n",
      "batch = 106, validation_split = 0.2, acc_rate = 0.98775\n",
      "17:32:13.739487\n",
      "batch = 106, validation_split = 0.3\n",
      "Epoch 00016: early stopping\n",
      "batch = 106, validation_split = 0.3, acc_rate = 0.9875714285714285\n",
      "17:32:48.866114\n",
      "batch = 106, validation_split = 0.4\n",
      "Epoch 00018: early stopping\n",
      "batch = 106, validation_split = 0.4, acc_rate = 0.9898928571428571\n",
      "17:33:24.883962\n",
      "batch = 110, validation_split = 0.1\n",
      "Epoch 00020: early stopping\n",
      "batch = 110, validation_split = 0.1, acc_rate = 0.9921428571428571\n",
      "17:34:12.340520\n",
      "batch = 110, validation_split = 0.2\n",
      "Epoch 00016: early stopping\n",
      "batch = 110, validation_split = 0.2, acc_rate = 0.9906785714285714\n",
      "17:34:47.803769\n",
      "batch = 110, validation_split = 0.3\n",
      "Epoch 00020: early stopping\n",
      "batch = 110, validation_split = 0.3, acc_rate = 0.9916071428571429\n",
      "17:35:29.851860\n",
      "batch = 110, validation_split = 0.4\n",
      "Epoch 00023: early stopping\n",
      "batch = 110, validation_split = 0.4, acc_rate = 0.9897857142857143\n",
      "17:36:15.175940\n",
      "batch = 114, validation_split = 0.1\n",
      "Epoch 00018: early stopping\n",
      "batch = 114, validation_split = 0.1, acc_rate = 0.992\n",
      "17:36:56.272471\n",
      "batch = 114, validation_split = 0.2\n",
      "Epoch 00021: early stopping\n",
      "batch = 114, validation_split = 0.2, acc_rate = 0.9919642857142857\n",
      "17:37:42.034480\n",
      "batch = 114, validation_split = 0.3\n",
      "Epoch 00022: early stopping\n",
      "batch = 114, validation_split = 0.3, acc_rate = 0.9905\n",
      "17:38:27.008261\n",
      "batch = 114, validation_split = 0.4\n",
      "Epoch 00020: early stopping\n",
      "batch = 114, validation_split = 0.4, acc_rate = 0.9907857142857143\n",
      "17:39:04.919244\n",
      "batch = 118, validation_split = 0.1\n",
      "Epoch 00017: early stopping\n",
      "batch = 118, validation_split = 0.1, acc_rate = 0.9889642857142857\n",
      "17:39:44.113499\n",
      "batch = 118, validation_split = 0.2\n",
      "Epoch 00020: early stopping\n",
      "batch = 118, validation_split = 0.2, acc_rate = 0.9900714285714286\n",
      "17:40:27.699857\n",
      "batch = 118, validation_split = 0.3\n",
      "Epoch 00025: early stopping\n",
      "batch = 118, validation_split = 0.3, acc_rate = 0.9910714285714286\n",
      "17:41:17.647052\n",
      "batch = 118, validation_split = 0.4\n",
      "Epoch 00025: early stopping\n",
      "batch = 118, validation_split = 0.4, acc_rate = 0.9918928571428571\n",
      "17:42:04.204010\n",
      "batch = 122, validation_split = 0.1\n",
      "Epoch 00017: early stopping\n",
      "batch = 122, validation_split = 0.1, acc_rate = 0.9903214285714286\n",
      "17:42:42.682487\n",
      "batch = 122, validation_split = 0.2\n",
      "Epoch 00023: early stopping\n",
      "batch = 122, validation_split = 0.2, acc_rate = 0.9893928571428572\n",
      "17:43:31.047432\n",
      "batch = 122, validation_split = 0.3\n",
      "Epoch 00030: early stopping\n",
      "batch = 122, validation_split = 0.3, acc_rate = 0.9912142857142857\n",
      "17:44:29.145878\n",
      "batch = 122, validation_split = 0.4\n",
      "Epoch 00031: early stopping\n",
      "batch = 122, validation_split = 0.4, acc_rate = 0.9910714285714286\n"
     ]
    },
    {
     "data": {
      "image/png": "[encoded data removed]",
      "text/plain": [
       "<Figure size 432x288 with 1 Axes>"
      ]
     },
     "metadata": {
      "needs_background": "light"
     },
     "output_type": "display_data"
    }
   ],
   "source": [
    "for batch in range(66,126,4):\n",
    "    for val in [0.1,0.2,0.3,0.4]:\n",
    "        print(datetime.now().time())\n",
    "        print('batch = {}, validation_split = {}'.format(batch,val))\n",
    "        model = gen_model()\n",
    "        history = model.fit(X_train,Y_train, batch_size=batch,\n",
    "                    epochs = 100, validation_split = val,verbose = 0, callbacks=[es])\n",
    "        plt.plot(history.history['accuracy'], label='train')\n",
    "        plt.plot(history.history['val_accuracy'], label='test')\n",
    "        plt.title('Plot History: Model Accuracy {} {}'.format(batch,val))\n",
    "        plt.ylabel('Accuracy')\n",
    "        plt.xlabel('Epoch')\n",
    "        plt.legend(['Train', 'Test'], loc='upper left')\n",
    "        #plt.show()\n",
    "        plt.savefig('{}_{}_acc.jpg'.format(batch,val))\n",
    "        plt.clf()\n",
    "\n",
    "        plt.plot(history.history['loss'], label='train loss')\n",
    "        plt.plot(history.history['val_loss'], label='test loss')\n",
    "        plt.title('Plot History: Model Loss')\n",
    "        plt.ylabel('Loss')\n",
    "        plt.xlabel('Epoch')\n",
    "        plt.legend(['Train', 'Test'], loc='upper left')\n",
    "        #plt.show()\n",
    "        plt.savefig('{}_{}_loss.jpg'.format(batch,val))\n",
    "        #pred_testy=model.predict(test,verbose=1)\n",
    "        pred = np.argmax(model.predict(test), axis=1)\n",
    "        acc_rate=sum(pred==np.array(Y_test['Label']))/28000\n",
    "        print('batch = {}, validation_split = {}, acc_rate = {}'.format(batch,val,acc_rate))\n",
    "        res[batch][val]=acc_rate"
   ]
  },
  {
   "cell_type": "code",
   "execution_count": 177,
   "metadata": {},
   "outputs": [
    {
     "data": {
      "text/plain": [
       "{64: {0.1: 0.9914285714285714,\n",
       "  0.2: 0.9918571428571429,\n",
       "  0.3: 0.9911428571428571,\n",
       "  0.4: 0.9920357142857142},\n",
       " 68: {0.1: 0.99,\n",
       "  0.2: 0.9922142857142857,\n",
       "  0.3: 0.9910357142857142,\n",
       "  0.4: 0.9838214285714286},\n",
       " 72: {0.1: 0.9906428571428572,\n",
       "  0.2: 0.9920714285714286,\n",
       "  0.3: 0.9903928571428572,\n",
       "  0.4: 0.989},\n",
       " 76: {0.1: 0.9925,\n",
       "  0.2: 0.9909642857142857,\n",
       "  0.3: 0.9910714285714286,\n",
       "  0.4: 0.9917142857142857},\n",
       " 80: {0.1: 0.9906428571428572,\n",
       "  0.2: 0.9908214285714285,\n",
       "  0.3: 0.9915357142857143,\n",
       "  0.4: 0.9927142857142857},\n",
       " 84: {0.1: 0.9913214285714286,\n",
       "  0.2: 0.9926071428571429,\n",
       "  0.3: 0.9915,\n",
       "  0.4: 0.9886785714285714},\n",
       " 88: {0.1: 0.9912142857142857,\n",
       "  0.2: 0.9916785714285714,\n",
       "  0.3: 0.9925,\n",
       "  0.4: 0.9898928571428571},\n",
       " 92: {0.1: 0.9911071428571429,\n",
       "  0.2: 0.9911071428571429,\n",
       "  0.3: 0.9911071428571429,\n",
       "  0.4: 0.9881428571428571},\n",
       " 96: {0.1: 0.99225,\n",
       "  0.2: 0.9907857142857143,\n",
       "  0.3: 0.9918928571428571,\n",
       "  0.4: 0.9903571428571428},\n",
       " 100: {0.1: 0.9916071428571429,\n",
       "  0.2: 0.9915357142857143,\n",
       "  0.3: 0.99,\n",
       "  0.4: 0.9916071428571429},\n",
       " 104: {0.1: 0.9925,\n",
       "  0.2: 0.9908928571428571,\n",
       "  0.3: 0.9895,\n",
       "  0.4: 0.9903928571428572},\n",
       " 108: {0.1: 0.9925, 0.2: 0.9904285714285714, 0.3: 0.98925, 0.4: 0.99},\n",
       " 112: {0.1: 0.9936071428571429,\n",
       "  0.2: 0.9916785714285714,\n",
       "  0.3: 0.9902142857142857,\n",
       "  0.4: 0.9899285714285714},\n",
       " 116: {0.1: 0.9923571428571428,\n",
       "  0.2: 0.9918214285714285,\n",
       "  0.3: 0.9907142857142858,\n",
       "  0.4: 0.9865},\n",
       " 120: {0.1: 0.9903928571428572,\n",
       "  0.2: 0.9921785714285715,\n",
       "  0.3: 0.9903214285714286,\n",
       "  0.4: 0.9897857142857143},\n",
       " 124: {0.1: 0.99025,\n",
       "  0.2: 0.9910714285714286,\n",
       "  0.3: 0.9911785714285715,\n",
       "  0.4: 0.9908571428571429},\n",
       " 66: {0.1: 0.9906428571428572,\n",
       "  0.2: 0.9911428571428571,\n",
       "  0.3: 0.9900714285714286,\n",
       "  0.4: 0.9914642857142857},\n",
       " 70: {0.1: 0.9907142857142858,\n",
       "  0.2: 0.9924642857142857,\n",
       "  0.3: 0.9913928571428572,\n",
       "  0.4: 0.9907142857142858},\n",
       " 74: {0.1: 0.9909642857142857,\n",
       "  0.2: 0.9910714285714286,\n",
       "  0.3: 0.9909642857142857,\n",
       "  0.4: 0.98775},\n",
       " 78: {0.1: 0.9911785714285715,\n",
       "  0.2: 0.9916428571428572,\n",
       "  0.3: 0.9911785714285715,\n",
       "  0.4: 0.9886785714285714},\n",
       " 82: {0.1: 0.9917142857142857,\n",
       "  0.2: 0.9914285714285714,\n",
       "  0.3: 0.9901785714285715,\n",
       "  0.4: 0.9908571428571429},\n",
       " 86: {0.1: 0.9923571428571428,\n",
       "  0.2: 0.9921428571428571,\n",
       "  0.3: 0.9921071428571429,\n",
       "  0.4: 0.9906071428571429},\n",
       " 90: {0.1: 0.9908214285714285,\n",
       "  0.2: 0.991,\n",
       "  0.3: 0.9919285714285714,\n",
       "  0.4: 0.9908214285714285},\n",
       " 94: {0.1: 0.9908571428571429,\n",
       "  0.2: 0.9900357142857142,\n",
       "  0.3: 0.9912857142857143,\n",
       "  0.4: 0.9876785714285714},\n",
       " 98: {0.1: 0.9915,\n",
       "  0.2: 0.9892857142857143,\n",
       "  0.3: 0.9923928571428572,\n",
       "  0.4: 0.9898214285714285},\n",
       " 102: {0.1: 0.9905,\n",
       "  0.2: 0.9917142857142857,\n",
       "  0.3: 0.9883214285714286,\n",
       "  0.4: 0.9890714285714286},\n",
       " 106: {0.1: 0.9923214285714286,\n",
       "  0.2: 0.98775,\n",
       "  0.3: 0.9875714285714285,\n",
       "  0.4: 0.9898928571428571},\n",
       " 110: {0.1: 0.9921428571428571,\n",
       "  0.2: 0.9906785714285714,\n",
       "  0.3: 0.9916071428571429,\n",
       "  0.4: 0.9897857142857143},\n",
       " 114: {0.1: 0.992,\n",
       "  0.2: 0.9919642857142857,\n",
       "  0.3: 0.9905,\n",
       "  0.4: 0.9907857142857143},\n",
       " 118: {0.1: 0.9889642857142857,\n",
       "  0.2: 0.9900714285714286,\n",
       "  0.3: 0.9910714285714286,\n",
       "  0.4: 0.9918928571428571},\n",
       " 122: {0.1: 0.9903214285714286,\n",
       "  0.2: 0.9893928571428572,\n",
       "  0.3: 0.9912142857142857,\n",
       "  0.4: 0.9910714285714286}}"
      ]
     },
     "execution_count": 177,
     "metadata": {},
     "output_type": "execute_result"
    }
   ],
   "source": [
    "res"
   ]
  },
  {
   "cell_type": "code",
   "execution_count": null,
   "metadata": {},
   "outputs": [],
   "source": []
  }
 ],
 "metadata": {
  "kernelspec": {
   "display_name": "Python 3",
   "language": "python",
   "name": "python3"
  },
  "language_info": {
   "codemirror_mode": {
    "name": "ipython",
    "version": 3
   },
   "file_extension": ".py",
   "mimetype": "text/x-python",
   "name": "python",
   "nbconvert_exporter": "python",
   "pygments_lexer": "ipython3",
   "version": "3.9.5"
  }
 },
 "nbformat": 4,
 "nbformat_minor": 2
}
